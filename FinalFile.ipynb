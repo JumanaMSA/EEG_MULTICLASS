{
  "nbformat": 4,
  "nbformat_minor": 0,
  "metadata": {
    "colab": {
      "name": "FinalFile.ipynb",
      "provenance": [],
      "collapsed_sections": []
    },
    "kernelspec": {
      "name": "python3",
      "display_name": "Python 3"
    }
  },
  "cells": [
    {
      "cell_type": "code",
      "metadata": {
        "colab_type": "code",
        "id": "zU5b6dlRwUQk",
        "colab": {}
      },
      "source": [
        "from pydrive.auth import GoogleAuth\n",
        "from pydrive.drive import GoogleDrive\n",
        "from google.colab import auth\n",
        "from oauth2client.client import GoogleCredentials\n",
        "from sklearn.preprocessing import MinMaxScaler\n",
        "from sklearn.model_selection import train_test_split\n",
        "from sklearn.multiclass import OneVsRestClassifier\n",
        "from sklearn.svm import SVC\n",
        "from sklearn.multiclass import OneVsRestClassifier\n",
        "from sklearn.model_selection import StratifiedKFold, GridSearchCV\n",
        "from sklearn.utils import class_weight as cw, resample\n",
        "import random"
      ],
      "execution_count": 0,
      "outputs": []
    },
    {
      "cell_type": "code",
      "metadata": {
        "colab_type": "code",
        "id": "RWSJpsyKqHjH",
        "outputId": "0908bbeb-b79b-44c9-e485-34cb9fd237d9",
        "colab": {
          "base_uri": "https://localhost:8080/",
          "height": 55
        }
      },
      "source": [
        "from google.colab import drive\n",
        "drive.mount('/content/gdrive')"
      ],
      "execution_count": 2,
      "outputs": [
        {
          "output_type": "stream",
          "text": [
            "Drive already mounted at /content/gdrive; to attempt to forcibly remount, call drive.mount(\"/content/gdrive\", force_remount=True).\n"
          ],
          "name": "stdout"
        }
      ]
    },
    {
      "cell_type": "code",
      "metadata": {
        "id": "RD_f6Qce0W0p",
        "colab_type": "code",
        "colab": {}
      },
      "source": [
        "import os\n",
        "import xlrd\n",
        "all_files_loc  = r'/content/gdrive/My Drive/DATASET'\n",
        "all_files = os.listdir(all_files_loc)"
      ],
      "execution_count": 0,
      "outputs": []
    },
    {
      "cell_type": "code",
      "metadata": {
        "id": "BJvmwcPS0sL0",
        "colab_type": "code",
        "colab": {}
      },
      "source": [
        "Features =\"Min, Max, STD, Mean, Median, Activity, Mobility, Complexity, Kurtosis, 2nd Difference Mean, 2nd Difference Max, 1st Difference Mean, 1st Difference Max, Coeffiecient of Variation, Skewness, Wavelet Approximate Mean, Wavelet Approximate Std Deviation, Wavelet Detailed Mean, Wavelet Detailed Std Deviation, Wavelet Approximate Energy, Wavelet Detailed Energy, Wavelet Approximate Entropy, Wavelet Detailed Entropy, Mean of Vertex to Vertex Slope, Var of Vertex to Vertex Slope, FFT Delta Max Power, FFT Theta Max Power, FFT Alpha Max Power, FFT Beta Max Power, Delta/Alpha, Delta/Theta\"\n",
        "features=Features.split(\", \")"
      ],
      "execution_count": 0,
      "outputs": []
    },
    {
      "cell_type": "code",
      "metadata": {
        "id": "JeHY1I4CxxHo",
        "colab_type": "code",
        "colab": {}
      },
      "source": [
        "chs = ['FP1','FPZ','FP2','AF3','AF4','F7','F5','F3','F1','FZ','F2','F4','F6','F8','FT7','FC5','FC3','FC1','FCZ','FC2','FC4','FC6','FT8','T7','C5','C3','C1','CZ','C2','C4','C6','T8','M1','TP7','CP5','CP3','CP1','CPZ','CP2','CP4','CP6','TP8','M2','P7','P5','P3','P1','PZ','P2','P4','P6','P8','PO7','PO5','PO3','POZ','PO4','PO6','PO8','O1','OZ','O2']"
      ],
      "execution_count": 0,
      "outputs": []
    },
    {
      "cell_type": "code",
      "metadata": {
        "id": "GeHy5anK04Gj",
        "colab_type": "code",
        "colab": {}
      },
      "source": [
        "import pandas as pd\n",
        "import numpy as np\n",
        "wb = xlrd.open_workbook(all_files_loc+'/Data_4_Import_REST.xlsx')\n",
        "sheet = wb.sheet_by_index(0)\n",
        "allSeshRows=list()\n",
        "for i in range(1,sheet.nrows):\n",
        "    row = sheet.row_values(i)\n",
        "    allSeshRows.append(row[6])"
      ],
      "execution_count": 0,
      "outputs": []
    },
    {
      "cell_type": "code",
      "metadata": {
        "id": "bR3Gn34r1G1r",
        "colab_type": "code",
        "colab": {}
      },
      "source": [
        "fullDataset=pd.DataFrame()"
      ],
      "execution_count": 0,
      "outputs": []
    },
    {
      "cell_type": "code",
      "metadata": {
        "id": "YCHnwggY2fRG",
        "colab_type": "code",
        "colab": {}
      },
      "source": [
        "unwanted_numbers=[522,581,539,571,572,613]\n",
        "subject_IDs=np.arange(507, 628, 1).tolist()\n",
        "subject_IDs = [num for num in subject_IDs if num not in unwanted_numbers] "
      ],
      "execution_count": 0,
      "outputs": []
    },
    {
      "cell_type": "code",
      "metadata": {
        "id": "TIW4KyYL1lz3",
        "colab_type": "code",
        "colab": {}
      },
      "source": [
        "labels=pd.DataFrame(allSeshRows,index=subject_IDs)"
      ],
      "execution_count": 0,
      "outputs": []
    },
    {
      "cell_type": "code",
      "metadata": {
        "id": "ID_0C9AT3Wsr",
        "colab_type": "code",
        "colab": {}
      },
      "source": [
        "for filename in all_files :\n",
        "  if filename.endswith('.npy'):\n",
        "      data1 = np.load(all_files_loc+'/'+filename, allow_pickle=True)\n",
        "      df0 = pd.DataFrame(data1[0][0], columns=features, index=chs)\n",
        "      df = df0.reset_index().copy()\n",
        "      df.rename(columns={'index': 'channel'}, inplace=True)\n",
        "      test = df.loc[df['channel'] == 'T8']\n",
        "      test = test.drop(['channel'], axis=1)\n",
        "      fullDataset = fullDataset.append(test.iloc[:][:],ignore_index=True)"
      ],
      "execution_count": 0,
      "outputs": []
    },
    {
      "cell_type": "code",
      "metadata": {
        "id": "IN8TKRA_5xLz",
        "colab_type": "code",
        "colab": {}
      },
      "source": [
        "fullDataset=fullDataset[['1st Difference Max','Wavelet Detailed Energy', 'Var of Vertex to Vertex Slope', 'Wavelet Detailed Std Deviation','Delta/Alpha', 'Delta/Theta','Kurtosis']]"
      ],
      "execution_count": 0,
      "outputs": []
    },
    {
      "cell_type": "code",
      "metadata": {
        "id": "AzG65sdR3Wxb",
        "colab_type": "code",
        "colab": {}
      },
      "source": [
        "scaler = MinMaxScaler()\n",
        "fullDataset.index=subject_IDs\n",
        "fullDataset=fullDataset.reindex(subject_IDs)\n",
        "fullDataset[:]=scaler.fit_transform(fullDataset[:])"
      ],
      "execution_count": 0,
      "outputs": []
    },
    {
      "cell_type": "code",
      "metadata": {
        "id": "XWH9iv0R3W3h",
        "colab_type": "code",
        "colab": {}
      },
      "source": [
        "fullDataset=fullDataset[['1st Difference Max','Wavelet Detailed Energy', 'Var of Vertex to Vertex Slope', 'Wavelet Detailed Std Deviation','Delta/Alpha', 'Delta/Theta','Kurtosis']]\n",
        "fullDataset= fullDataset.assign(BDI=labels[0])"
      ],
      "execution_count": 0,
      "outputs": []
    },
    {
      "cell_type": "code",
      "metadata": {
        "id": "TMSlhxs49PzQ",
        "colab_type": "code",
        "colab": {}
      },
      "source": [
        "fullDataset['BDI']=pd.cut(fullDataset['BDI'],bins=[0,13.0,19.0,28.0,63.0],labels=[0,1,2,3])\n",
        "fullDataset['BDI'] = fullDataset['BDI'].fillna(0)"
      ],
      "execution_count": 0,
      "outputs": []
    },
    {
      "cell_type": "code",
      "metadata": {
        "id": "v6JzBSmGUjKO",
        "colab_type": "code",
        "colab": {}
      },
      "source": [
        "def upsample(classNum,sampleSize):\n",
        " return resample(classNum,\n",
        "  replace=True,    \n",
        "  n_samples=sampleSize,     \n",
        "  random_state=123) \n"
      ],
      "execution_count": 0,
      "outputs": []
    },
    {
      "cell_type": "code",
      "metadata": {
        "id": "keyK4jAsT3v9",
        "colab_type": "code",
        "colab": {}
      },
      "source": [
        "class0= fullDataset[fullDataset.BDI==0]\n",
        "class1= fullDataset[fullDataset.BDI==1]\n",
        "class2= fullDataset[fullDataset.BDI==2]\n",
        "class3= fullDataset[fullDataset.BDI==3]\n",
        "majority_count=len(class0)"
      ],
      "execution_count": 0,
      "outputs": []
    },
    {
      "cell_type": "code",
      "metadata": {
        "id": "FcRBqseVWauI",
        "colab_type": "code",
        "colab": {}
      },
      "source": [
        "upsampled_class1=upsample(class1,majority_count)\n",
        "upsampled_class2=upsample(class2,majority_count)\n",
        "upsampled_class3=upsample(class3,majority_count)"
      ],
      "execution_count": 0,
      "outputs": []
    },
    {
      "cell_type": "code",
      "metadata": {
        "id": "AupS9LCpZ1U5",
        "colab_type": "code",
        "colab": {
          "base_uri": "https://localhost:8080/",
          "height": 90
        },
        "outputId": "3ccdd21b-69aa-4bf1-aa10-f856768937f6"
      },
      "source": [
        "print(len(class0))\n",
        "print(len(upsampled_class1))\n",
        "print(len(upsampled_class2))\n",
        "print(len(upsampled_class3))"
      ],
      "execution_count": 18,
      "outputs": [
        {
          "output_type": "stream",
          "text": [
            "73\n",
            "73\n",
            "73\n",
            "73\n"
          ],
          "name": "stdout"
        }
      ]
    },
    {
      "cell_type": "code",
      "metadata": {
        "id": "zkopds9XXOm_",
        "colab_type": "code",
        "colab": {}
      },
      "source": [
        "upsampledData=pd.concat([class0,upsampled_class1,upsampled_class2,upsampled_class3])"
      ],
      "execution_count": 0,
      "outputs": []
    },
    {
      "cell_type": "code",
      "metadata": {
        "id": "w84u-vvR-K1I",
        "colab_type": "code",
        "colab": {}
      },
      "source": [
        "X=upsampledData[['1st Difference Max','Wavelet Detailed Energy', 'Var of Vertex to Vertex Slope', 'Wavelet Detailed Std Deviation','Delta/Alpha', 'Delta/Theta','Kurtosis']]\n",
        "y=upsampledData[['BDI']]"
      ],
      "execution_count": 0,
      "outputs": []
    },
    {
      "cell_type": "code",
      "metadata": {
        "id": "96YCmsV09P7c",
        "colab_type": "code",
        "colab": {}
      },
      "source": [
        "X_train, X_test, y_train, y_test = train_test_split(X, y, test_size=0.33, shuffle=True)"
      ],
      "execution_count": 0,
      "outputs": []
    },
    {
      "cell_type": "code",
      "metadata": {
        "id": "kVEsCW6VB_C2",
        "colab_type": "code",
        "colab": {}
      },
      "source": [
        "params_grid = [{'C': [1, 10, 100, 1000], 'gamma': [0.001, 0.0001], 'kernel': ['rbf']}]"
      ],
      "execution_count": 0,
      "outputs": []
    },
    {
      "cell_type": "code",
      "metadata": {
        "id": "CzIIp-qV9QC0",
        "colab_type": "code",
        "colab": {}
      },
      "source": [
        "svm=GridSearchCV(estimator=SVC(kernel='rbf', probability=True), param_grid=params_grid, cv=5,return_train_score=True)\n",
        "fitted=svm.fit(X_train, y_train.values.ravel())\n",
        "scores=fitted.cv_results_"
      ],
      "execution_count": 0,
      "outputs": []
    },
    {
      "cell_type": "code",
      "metadata": {
        "id": "GYFzCR1iB_JD",
        "colab_type": "code",
        "colab": {}
      },
      "source": [
        "classifier = OneVsRestClassifier(svm.best_estimator_)\n",
        "fitted=classifier.fit(X_train, y_train)"
      ],
      "execution_count": 0,
      "outputs": []
    },
    {
      "cell_type": "code",
      "metadata": {
        "id": "YbAAhYSq-v09",
        "colab_type": "code",
        "colab": {}
      },
      "source": [
        "predicted = classifier.predict(X_test)\n",
        "predicted_probability = classifier.predict_proba(X_test)"
      ],
      "execution_count": 0,
      "outputs": []
    },
    {
      "cell_type": "code",
      "metadata": {
        "id": "X4582jC8-v8R",
        "colab_type": "code",
        "colab": {
          "base_uri": "https://localhost:8080/",
          "height": 274
        },
        "outputId": "a7235410-2086-4596-d1c4-21d8c48b0da6"
      },
      "source": [
        "from sklearn.metrics import classification_report\n",
        "target_names=['minimal range','mild','moderate','severe']\n",
        "print(classification_report(y_test,predicted,target_names=target_names))"
      ],
      "execution_count": 26,
      "outputs": [
        {
          "output_type": "stream",
          "text": [
            "               precision    recall  f1-score   support\n",
            "\n",
            "minimal range       0.34      0.41      0.37        27\n",
            "         mild       0.00      0.00      0.00        26\n",
            "     moderate       0.00      0.00      0.00        18\n",
            "       severe       0.29      0.73      0.42        26\n",
            "\n",
            "     accuracy                           0.31        97\n",
            "    macro avg       0.16      0.28      0.20        97\n",
            " weighted avg       0.17      0.31      0.22        97\n",
            "\n"
          ],
          "name": "stdout"
        },
        {
          "output_type": "stream",
          "text": [
            "/usr/local/lib/python3.6/dist-packages/sklearn/metrics/_classification.py:1272: UndefinedMetricWarning: Precision and F-score are ill-defined and being set to 0.0 in labels with no predicted samples. Use `zero_division` parameter to control this behavior.\n",
            "  _warn_prf(average, modifier, msg_start, len(result))\n"
          ],
          "name": "stderr"
        }
      ]
    },
    {
      "cell_type": "code",
      "metadata": {
        "id": "ZtblmCGwC8Mw",
        "colab_type": "code",
        "colab": {}
      },
      "source": [
        "from sklearn.metrics import confusion_matrix"
      ],
      "execution_count": 0,
      "outputs": []
    },
    {
      "cell_type": "code",
      "metadata": {
        "id": "FtL1KUXUriTI",
        "colab_type": "code",
        "colab": {
          "base_uri": "https://localhost:8080/",
          "height": 90
        },
        "outputId": "a534035c-7aa7-43f2-837d-41ac6ba56656"
      },
      "source": [
        "confMat=confusion_matrix(y_true=y_test,y_pred=predicted,labels=[0,1,2,3])\n",
        "\n",
        "print(confMat)"
      ],
      "execution_count": 28,
      "outputs": [
        {
          "output_type": "stream",
          "text": [
            "[[11  0  0 16]\n",
            " [ 6  0  0 20]\n",
            " [ 8  0  0 10]\n",
            " [ 7  0  0 19]]\n"
          ],
          "name": "stdout"
        }
      ]
    },
    {
      "cell_type": "code",
      "metadata": {
        "id": "PD3vYiJ4ujXn",
        "colab_type": "code",
        "colab": {
          "base_uri": "https://localhost:8080/",
          "height": 54
        },
        "outputId": "5a8e42d5-9a92-4624-ef8c-b5cd3f18da61"
      },
      "source": [
        "total=sum(sum(confMat))\n",
        "TP=confMat[0,0]\n",
        "FP=confMat[1,0]\n",
        "FN=confMat[0,1]\n",
        "TN=confMat[1,1]\n",
        "sensitivity = TP/(TP+FP)\n",
        "print('Sensitivity : ', sensitivity )\n",
        "specificity = TN/(FP+TN)\n",
        "print('specificity : ', specificity )"
      ],
      "execution_count": 29,
      "outputs": [
        {
          "output_type": "stream",
          "text": [
            "Sensitivity :  0.6470588235294118\n",
            "specificity :  0.0\n"
          ],
          "name": "stdout"
        }
      ]
    },
    {
      "cell_type": "code",
      "metadata": {
        "id": "DLl2G7AGBBz1",
        "colab_type": "code",
        "colab": {}
      },
      "source": [
        "predicted_probability=pd.DataFrame(predicted_probability)\n",
        "predicted_probability.columns=['probability of class1','probability of class2','probability of class3','probability of class4']\n"
      ],
      "execution_count": 0,
      "outputs": []
    }
  ]
}